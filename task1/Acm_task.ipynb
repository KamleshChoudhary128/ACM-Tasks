{
 "cells": [
  {
   "cell_type": "code",
   "execution_count": 2,
   "id": "329e9c10-fdb1-43ae-a0ee-e3dbbfbdd9ae",
   "metadata": {},
   "outputs": [
    {
     "name": "stdout",
     "output_type": "stream",
     "text": [
      "I 💜 my 🌱\n",
      "I also am a 👽 from another planet💧\n"
     ]
    }
   ],
   "source": [
    "import random\n",
    "def transform_text(input_text: str) -> str:\n",
    "    text=input_text.replace(\"love\", \"💜\")\n",
    "    text=text.replace(\"plant\", \"🌱\")\n",
    "    text=text.replace(\"alien\", \"👽\")\n",
    "\n",
    "    words=text.split()\n",
    "\n",
    "    for i in range(0, len(words), 4):\n",
    "        word=words[i]\n",
    "        rword=word[::-1]\n",
    "        words[i]=rword\n",
    "\n",
    "    emo=[\"🔥\", \"💧\", \"💩\", \"💡\"]\n",
    "    for i in range(len(words)):\n",
    "        if random.random() < 0.1:\n",
    "            words[i]=words[i]+random.choice(emo)\n",
    "            \n",
    "    transformed_text = \" \".join(words)\n",
    "    \n",
    "    return transformed_text\n",
    "    \n",
    "print(transform_text(\"I love my plant \"))\n",
    "print(transform_text(\"I also am a alien from another planet\"))"
   ]
  },
  {
   "cell_type": "code",
   "execution_count": null,
   "id": "2cd4c305-1642-4872-8b07-cf60b167286f",
   "metadata": {},
   "outputs": [],
   "source": []
  },
  {
   "cell_type": "code",
   "execution_count": null,
   "id": "23b179e8-f521-4873-9671-2fce2b59310b",
   "metadata": {},
   "outputs": [],
   "source": []
  }
 ],
 "metadata": {
  "kernelspec": {
   "display_name": "Python 3 (ipykernel)",
   "language": "python",
   "name": "python3"
  },
  "language_info": {
   "codemirror_mode": {
    "name": "ipython",
    "version": 3
   },
   "file_extension": ".py",
   "mimetype": "text/x-python",
   "name": "python",
   "nbconvert_exporter": "python",
   "pygments_lexer": "ipython3",
   "version": "3.13.5"
  }
 },
 "nbformat": 4,
 "nbformat_minor": 5
}
